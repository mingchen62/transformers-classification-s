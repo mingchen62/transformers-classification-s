{
 "cells": [
  {
   "cell_type": "code",
   "execution_count": 1,
   "metadata": {},
   "outputs": [],
   "source": [
    "import pandas as pd\n",
    "import re\n",
    "from tqdm import tqdm_notebook\n",
    "\n",
    "prefix = 'data/'"
   ]
  },
  {
   "cell_type": "code",
   "execution_count": 2,
   "metadata": {},
   "outputs": [],
   "source": [
    "df_all = pd.read_csv(prefix +\"/second_batch_training_data.csv\",index_col=0)"
   ]
  },
  {
   "cell_type": "code",
   "execution_count": 3,
   "metadata": {},
   "outputs": [
    {
     "data": {
      "text/plain": [
       "(53161, 4)"
      ]
     },
     "execution_count": 3,
     "metadata": {},
     "output_type": "execute_result"
    }
   ],
   "source": [
    "df_all.shape"
   ]
  },
  {
   "cell_type": "code",
   "execution_count": 4,
   "metadata": {},
   "outputs": [],
   "source": [
    "df_all = df_all.drop_duplicates()\n",
    "df_all.isna().sum()\n",
    "# if both text_in_img and text_in_html are empty\n",
    "df_all.dropna(subset=['text_in_img', 'text_in_html'], how='all', inplace = True)\n"
   ]
  },
  {
   "cell_type": "code",
   "execution_count": 5,
   "metadata": {},
   "outputs": [
    {
     "data": {
      "text/plain": [
       "(51188, 4)"
      ]
     },
     "execution_count": 5,
     "metadata": {},
     "output_type": "execute_result"
    }
   ],
   "source": [
    "df_all.shape"
   ]
  },
  {
   "cell_type": "code",
   "execution_count": 6,
   "metadata": {},
   "outputs": [],
   "source": [
    "df_all = df_all.fillna(\"\")"
   ]
  },
  {
   "cell_type": "code",
   "execution_count": 7,
   "metadata": {
    "scrolled": true
   },
   "outputs": [
    {
     "data": {
      "text/html": [
       "<div>\n",
       "<style scoped>\n",
       "    .dataframe tbody tr th:only-of-type {\n",
       "        vertical-align: middle;\n",
       "    }\n",
       "\n",
       "    .dataframe tbody tr th {\n",
       "        vertical-align: top;\n",
       "    }\n",
       "\n",
       "    .dataframe thead th {\n",
       "        text-align: right;\n",
       "    }\n",
       "</style>\n",
       "<table border=\"1\" class=\"dataframe\">\n",
       "  <thead>\n",
       "    <tr style=\"text-align: right;\">\n",
       "      <th></th>\n",
       "      <th>subject</th>\n",
       "      <th>text_in_html</th>\n",
       "      <th>text_in_img</th>\n",
       "      <th>label</th>\n",
       "    </tr>\n",
       "  </thead>\n",
       "  <tbody>\n",
       "    <tr>\n",
       "      <th>0</th>\n",
       "      <td>Your AUMA News Clippings for June 4, 2019</td>\n",
       "      <td>Your AUMA News Clippings Energy Energy has big...</td>\n",
       "      <td>AUMA ASC WE ARE WE ARE THE WE ARE THE economie...</td>\n",
       "      <td>0</td>\n",
       "    </tr>\n",
       "    <tr>\n",
       "      <th>1</th>\n",
       "      <td>FIT Networking</td>\n",
       "      <td>Save the Date! F.I.T. Summer Camp Graduation C...</td>\n",
       "      <td>SOLITA'S HOUSE Providing the Keys to Homeowner...</td>\n",
       "      <td>0</td>\n",
       "    </tr>\n",
       "    <tr>\n",
       "      <th>2</th>\n",
       "      <td>Upcoming Events&amp; Info You Don't Want to Miss!</td>\n",
       "      <td>You don't want to miss these events! What's Gr...</td>\n",
       "      <td>TangerOutlets FARMERS MARKET BLUFFTON SOUTH C...</td>\n",
       "      <td>0</td>\n",
       "    </tr>\n",
       "    <tr>\n",
       "      <th>3</th>\n",
       "      <td>Aberdeen Lake Dam Repairs, NC 211 expansion, a...</td>\n",
       "      <td>You don't want to miss these events Edition 21...</td>\n",
       "      <td>Town of Aberdeen</td>\n",
       "      <td>0</td>\n",
       "    </tr>\n",
       "    <tr>\n",
       "      <th>4</th>\n",
       "      <td>Call GEN3 for your Air Conditioning Needs!</td>\n",
       "      <td>You don't want to miss this great first-servic...</td>\n",
       "      <td>OK GENERA NOILY HEAT TING &amp; AIR Generation 3 E...</td>\n",
       "      <td>0</td>\n",
       "    </tr>\n",
       "  </tbody>\n",
       "</table>\n",
       "</div>"
      ],
      "text/plain": [
       "                                             subject  \\\n",
       "0          Your AUMA News Clippings for June 4, 2019   \n",
       "1                                    FIT Networking    \n",
       "2      Upcoming Events& Info You Don't Want to Miss!   \n",
       "3  Aberdeen Lake Dam Repairs, NC 211 expansion, a...   \n",
       "4         Call GEN3 for your Air Conditioning Needs!   \n",
       "\n",
       "                                        text_in_html  \\\n",
       "0  Your AUMA News Clippings Energy Energy has big...   \n",
       "1  Save the Date! F.I.T. Summer Camp Graduation C...   \n",
       "2  You don't want to miss these events! What's Gr...   \n",
       "3  You don't want to miss these events Edition 21...   \n",
       "4  You don't want to miss this great first-servic...   \n",
       "\n",
       "                                         text_in_img  label  \n",
       "0  AUMA ASC WE ARE WE ARE THE WE ARE THE economie...      0  \n",
       "1  SOLITA'S HOUSE Providing the Keys to Homeowner...      0  \n",
       "2   TangerOutlets FARMERS MARKET BLUFFTON SOUTH C...      0  \n",
       "3                                  Town of Aberdeen       0  \n",
       "4  OK GENERA NOILY HEAT TING & AIR Generation 3 E...      0  "
      ]
     },
     "execution_count": 7,
     "metadata": {},
     "output_type": "execute_result"
    }
   ],
   "source": [
    "df_all.head()"
   ]
  },
  {
   "cell_type": "code",
   "execution_count": 8,
   "metadata": {},
   "outputs": [
    {
     "data": {
      "text/html": [
       "<div>\n",
       "<style scoped>\n",
       "    .dataframe tbody tr th:only-of-type {\n",
       "        vertical-align: middle;\n",
       "    }\n",
       "\n",
       "    .dataframe tbody tr th {\n",
       "        vertical-align: top;\n",
       "    }\n",
       "\n",
       "    .dataframe thead th {\n",
       "        text-align: right;\n",
       "    }\n",
       "</style>\n",
       "<table border=\"1\" class=\"dataframe\">\n",
       "  <thead>\n",
       "    <tr style=\"text-align: right;\">\n",
       "      <th></th>\n",
       "      <th>subject</th>\n",
       "      <th>text_in_html</th>\n",
       "      <th>text_in_img</th>\n",
       "    </tr>\n",
       "    <tr>\n",
       "      <th>label</th>\n",
       "      <th></th>\n",
       "      <th></th>\n",
       "      <th></th>\n",
       "    </tr>\n",
       "  </thead>\n",
       "  <tbody>\n",
       "    <tr>\n",
       "      <th>0</th>\n",
       "      <td>50308</td>\n",
       "      <td>50308</td>\n",
       "      <td>50308</td>\n",
       "    </tr>\n",
       "    <tr>\n",
       "      <th>1</th>\n",
       "      <td>880</td>\n",
       "      <td>880</td>\n",
       "      <td>880</td>\n",
       "    </tr>\n",
       "  </tbody>\n",
       "</table>\n",
       "</div>"
      ],
      "text/plain": [
       "       subject  text_in_html  text_in_img\n",
       "label                                    \n",
       "0        50308         50308        50308\n",
       "1          880           880          880"
      ]
     },
     "execution_count": 8,
     "metadata": {},
     "output_type": "execute_result"
    }
   ],
   "source": [
    "df_all.groupby('label').count()"
   ]
  },
  {
   "cell_type": "code",
   "execution_count": 9,
   "metadata": {},
   "outputs": [
    {
     "data": {
      "text/plain": [
       "(880, 4)"
      ]
     },
     "execution_count": 9,
     "metadata": {},
     "output_type": "execute_result"
    }
   ],
   "source": [
    "df_spam= df_all[df_all['label']==1]\n",
    "df_spam.shape"
   ]
  },
  {
   "cell_type": "code",
   "execution_count": 10,
   "metadata": {},
   "outputs": [],
   "source": [
    "TEXT_HTML_THRESHOLD =120"
   ]
  },
  {
   "cell_type": "code",
   "execution_count": 11,
   "metadata": {},
   "outputs": [],
   "source": [
    "import re\n",
    "import unicodedata\n",
    "def remove_emoji(s):\n",
    "    emoji_pattern = re.compile(\"[\"\n",
    "                           u\"\\U0001F600-\\U0001F64F\"  # emoticons\n",
    "                           u\"\\U0001F300-\\U0001F5FF\"  # symbols & pictographs\n",
    "                           u\"\\U0001F680-\\U0001F6FF\"  # transport & map symbols\n",
    "                           u\"\\U0001F1E0-\\U0001F1FF\"  # flags (iOS)\n",
    "                           u\"\\U00002702-\\U000027B0\"\n",
    "                           u\"\\U000024C2-\\U0001F251\"\n",
    "                           \"]+\", flags=re.UNICODE)\n",
    "    return emoji_pattern.sub(r'', s)"
   ]
  },
  {
   "cell_type": "code",
   "execution_count": 12,
   "metadata": {},
   "outputs": [],
   "source": [
    "def clean_text(s):\n",
    "    s = unicodedata.normalize(\"NFKD\", s)\n",
    "    # half space\n",
    "    s=s.replace('\\u200c', '')\n",
    "    # BOM char\n",
    "    s=s.replace('\\ufeff', '')\n",
    "    \n",
    "    # remove unwantted chars\n",
    "    s=re.sub('_+', ' ',s)\n",
    "    s=re.sub('\\*+', ' ',s)\n",
    "    s=re.sub('-+', ' ',s)\n",
    "    s=re.sub('=+', ' ',s)\n",
    "    s=re.sub('>+', ' ',s)\n",
    "    s=re.sub('<+', ' ',s)\n",
    "    # strip multiple spaces\n",
    "    s= re.sub('\\s+', ' ', s).strip()\n",
    "    s = remove_emoji(s)\n",
    "    # ignore single char\n",
    "    s= ' '.join([c for c in s.split()  if len(c) >1 or c == 'I'])\n",
    "    return s"
   ]
  },
  {
   "cell_type": "code",
   "execution_count": 14,
   "metadata": {},
   "outputs": [],
   "source": [
    "def build_whole_text(r,c1,c2,c3):\n",
    "    s=r[c1].strip()+' '+r[c2].strip()\n",
    "    if len(r[c2]) < TEXT_HTML_THRESHOLD:\n",
    "        s=s+' '+r[c3].strip()\n",
    "    return clean_text(s)\n",
    "\n",
    "df_all['text'] = df_all.apply (lambda row: build_whole_text(row,'subject', 'text_in_html', 'text_in_img'), axis=1)\n"
   ]
  },
  {
   "cell_type": "code",
   "execution_count": 15,
   "metadata": {},
   "outputs": [],
   "source": [
    "df_all['text_len']=df_all['text'].str.len()"
   ]
  },
  {
   "cell_type": "code",
   "execution_count": 16,
   "metadata": {},
   "outputs": [
    {
     "data": {
      "text/plain": [
       "subject         50553\n",
       "text_in_html    50553\n",
       "text_in_img     50553\n",
       "label           50553\n",
       "text            50553\n",
       "text_len        50553\n",
       "dtype: int64"
      ]
     },
     "execution_count": 16,
     "metadata": {},
     "output_type": "execute_result"
    }
   ],
   "source": [
    "df_all[df_all['text_len'] >=TEXT_HTML_THRESHOLD].count()"
   ]
  },
  {
   "cell_type": "code",
   "execution_count": 17,
   "metadata": {},
   "outputs": [
    {
     "data": {
      "text/plain": [
       "204.0"
      ]
     },
     "execution_count": 17,
     "metadata": {},
     "output_type": "execute_result"
    }
   ],
   "source": [
    "df_all['text_len'].quantile(0.04)"
   ]
  },
  {
   "cell_type": "code",
   "execution_count": 18,
   "metadata": {},
   "outputs": [
    {
     "data": {
      "text/plain": [
       "0"
      ]
     },
     "execution_count": 18,
     "metadata": {},
     "output_type": "execute_result"
    }
   ],
   "source": [
    "df_all['text_len'].min()"
   ]
  },
  {
   "cell_type": "code",
   "execution_count": 19,
   "metadata": {},
   "outputs": [
    {
     "data": {
      "text/plain": [
       "410179"
      ]
     },
     "execution_count": 19,
     "metadata": {},
     "output_type": "execute_result"
    }
   ],
   "source": [
    "df_all['text_len'].max()"
   ]
  },
  {
   "cell_type": "code",
   "execution_count": 20,
   "metadata": {},
   "outputs": [
    {
     "data": {
      "text/plain": [
       "2115.4497538485584"
      ]
     },
     "execution_count": 20,
     "metadata": {},
     "output_type": "execute_result"
    }
   ],
   "source": [
    "df_all['text_len'].mean()"
   ]
  },
  {
   "cell_type": "code",
   "execution_count": 21,
   "metadata": {},
   "outputs": [
    {
     "data": {
      "text/plain": [
       "array([[<matplotlib.axes._subplots.AxesSubplot object at 0x7f29c5e06ac8>]],\n",
       "      dtype=object)"
      ]
     },
     "execution_count": 21,
     "metadata": {},
     "output_type": "execute_result"
    }
   ],
   "source": [
    "df_all[df_all['text_len'] < 10000].hist(column='text_len', bins=50)\n"
   ]
  },
  {
   "cell_type": "code",
   "execution_count": 22,
   "metadata": {},
   "outputs": [
    {
     "data": {
      "text/plain": [
       "array([[<matplotlib.axes._subplots.AxesSubplot object at 0x7f29c5a05198>]],\n",
       "      dtype=object)"
      ]
     },
     "execution_count": 22,
     "metadata": {},
     "output_type": "execute_result"
    },
    {
     "data": {
      "image/png": "[encoded data removed]",
      "text/plain": [
       "<Figure size 432x288 with 1 Axes>"
      ]
     },
     "metadata": {},
     "output_type": "display_data"
    }
   ],
   "source": [
    "df_all[df_all['label'] == 1].hist(column='text_len', bins=50)"
   ]
  },
  {
   "cell_type": "code",
   "execution_count": 23,
   "metadata": {},
   "outputs": [
    {
     "data": {
      "text/plain": [
       "subject         880\n",
       "text_in_html    880\n",
       "text_in_img     880\n",
       "label           880\n",
       "text            880\n",
       "text_len        880\n",
       "dtype: int64"
      ]
     },
     "execution_count": 23,
     "metadata": {},
     "output_type": "execute_result"
    }
   ],
   "source": [
    "df_spam= df_all[df_all['label'] == 1]\n",
    "df_spam.count()"
   ]
  },
  {
   "cell_type": "code",
   "execution_count": 24,
   "metadata": {},
   "outputs": [
    {
     "data": {
      "text/plain": [
       "subject         285\n",
       "text_in_html    285\n",
       "text_in_img     285\n",
       "label           285\n",
       "text            285\n",
       "text_len        285\n",
       "dtype: int64"
      ]
     },
     "execution_count": 24,
     "metadata": {},
     "output_type": "execute_result"
    }
   ],
   "source": [
    "df_spam[df_spam['text_len']<120].count()"
   ]
  },
  {
   "cell_type": "code",
   "execution_count": 25,
   "metadata": {},
   "outputs": [
    {
     "data": {
      "text/html": [
       "<div>\n",
       "<style scoped>\n",
       "    .dataframe tbody tr th:only-of-type {\n",
       "        vertical-align: middle;\n",
       "    }\n",
       "\n",
       "    .dataframe tbody tr th {\n",
       "        vertical-align: top;\n",
       "    }\n",
       "\n",
       "    .dataframe thead th {\n",
       "        text-align: right;\n",
       "    }\n",
       "</style>\n",
       "<table border=\"1\" class=\"dataframe\">\n",
       "  <thead>\n",
       "    <tr style=\"text-align: right;\">\n",
       "      <th></th>\n",
       "      <th>subject</th>\n",
       "      <th>text_in_html</th>\n",
       "      <th>text_in_img</th>\n",
       "      <th>text</th>\n",
       "      <th>text_len</th>\n",
       "    </tr>\n",
       "    <tr>\n",
       "      <th>label</th>\n",
       "      <th></th>\n",
       "      <th></th>\n",
       "      <th></th>\n",
       "      <th></th>\n",
       "      <th></th>\n",
       "    </tr>\n",
       "  </thead>\n",
       "  <tbody>\n",
       "    <tr>\n",
       "      <th>0</th>\n",
       "      <td>350</td>\n",
       "      <td>350</td>\n",
       "      <td>350</td>\n",
       "      <td>350</td>\n",
       "      <td>350</td>\n",
       "    </tr>\n",
       "    <tr>\n",
       "      <th>1</th>\n",
       "      <td>285</td>\n",
       "      <td>285</td>\n",
       "      <td>285</td>\n",
       "      <td>285</td>\n",
       "      <td>285</td>\n",
       "    </tr>\n",
       "  </tbody>\n",
       "</table>\n",
       "</div>"
      ],
      "text/plain": [
       "       subject  text_in_html  text_in_img  text  text_len\n",
       "label                                                    \n",
       "0          350           350          350   350       350\n",
       "1          285           285          285   285       285"
      ]
     },
     "execution_count": 25,
     "metadata": {},
     "output_type": "execute_result"
    }
   ],
   "source": [
    "df_all[df_all['text_len']<TEXT_HTML_THRESHOLD].groupby('label').count()"
   ]
  },
  {
   "cell_type": "code",
   "execution_count": 26,
   "metadata": {},
   "outputs": [],
   "source": [
    "# drop if text length is too short\n",
    "df_new=df_all[df_all['text_len'] >= 120]"
   ]
  },
  {
   "cell_type": "code",
   "execution_count": 27,
   "metadata": {},
   "outputs": [
    {
     "data": {
      "text/plain": [
       "(50553, 6)"
      ]
     },
     "execution_count": 27,
     "metadata": {},
     "output_type": "execute_result"
    }
   ],
   "source": [
    "df_new.shape"
   ]
  },
  {
   "cell_type": "code",
   "execution_count": 28,
   "metadata": {},
   "outputs": [
    {
     "data": {
      "text/html": [
       "<div>\n",
       "<style scoped>\n",
       "    .dataframe tbody tr th:only-of-type {\n",
       "        vertical-align: middle;\n",
       "    }\n",
       "\n",
       "    .dataframe tbody tr th {\n",
       "        vertical-align: top;\n",
       "    }\n",
       "\n",
       "    .dataframe thead th {\n",
       "        text-align: right;\n",
       "    }\n",
       "</style>\n",
       "<table border=\"1\" class=\"dataframe\">\n",
       "  <thead>\n",
       "    <tr style=\"text-align: right;\">\n",
       "      <th></th>\n",
       "      <th>subject</th>\n",
       "      <th>text_in_html</th>\n",
       "      <th>text_in_img</th>\n",
       "      <th>text</th>\n",
       "      <th>text_len</th>\n",
       "    </tr>\n",
       "    <tr>\n",
       "      <th>label</th>\n",
       "      <th></th>\n",
       "      <th></th>\n",
       "      <th></th>\n",
       "      <th></th>\n",
       "      <th></th>\n",
       "    </tr>\n",
       "  </thead>\n",
       "  <tbody>\n",
       "    <tr>\n",
       "      <th>0</th>\n",
       "      <td>49958</td>\n",
       "      <td>49958</td>\n",
       "      <td>49958</td>\n",
       "      <td>49958</td>\n",
       "      <td>49958</td>\n",
       "    </tr>\n",
       "    <tr>\n",
       "      <th>1</th>\n",
       "      <td>595</td>\n",
       "      <td>595</td>\n",
       "      <td>595</td>\n",
       "      <td>595</td>\n",
       "      <td>595</td>\n",
       "    </tr>\n",
       "  </tbody>\n",
       "</table>\n",
       "</div>"
      ],
      "text/plain": [
       "       subject  text_in_html  text_in_img   text  text_len\n",
       "label                                                     \n",
       "0        49958         49958        49958  49958     49958\n",
       "1          595           595          595    595       595"
      ]
     },
     "execution_count": 28,
     "metadata": {},
     "output_type": "execute_result"
    }
   ],
   "source": [
    "df_new.groupby('label').count()"
   ]
  },
  {
   "cell_type": "code",
   "execution_count": 29,
   "metadata": {},
   "outputs": [],
   "source": [
    "df_bert = pd.DataFrame({\n",
    "    'id':range(len(df_new)),\n",
    "    'label':df_new['label'],\n",
    "    'alpha':['a']*df_new.shape[0],\n",
    "    'text': df_new['text'] \n",
    "})"
   ]
  },
  {
   "cell_type": "code",
   "execution_count": 30,
   "metadata": {},
   "outputs": [
    {
     "data": {
      "text/plain": [
       "id       0\n",
       "label    0\n",
       "alpha    0\n",
       "text     0\n",
       "dtype: int64"
      ]
     },
     "execution_count": 30,
     "metadata": {},
     "output_type": "execute_result"
    }
   ],
   "source": [
    "df_bert.isna().sum()"
   ]
  },
  {
   "cell_type": "code",
   "execution_count": 31,
   "metadata": {},
   "outputs": [
    {
     "data": {
      "text/plain": [
       "(50553, 4)"
      ]
     },
     "execution_count": 31,
     "metadata": {},
     "output_type": "execute_result"
    }
   ],
   "source": [
    "df_bert.shape"
   ]
  },
  {
   "cell_type": "code",
   "execution_count": 32,
   "metadata": {},
   "outputs": [
    {
     "data": {
      "text/plain": [
       "0        Your AUMA News Clippings for June 4, 2019 Your...\n",
       "1        FIT Networking Save the Date! F.I.T. Summer Ca...\n",
       "2        Upcoming Events& Info You Don't Want to Miss! ...\n",
       "3        Aberdeen Lake Dam Repairs, NC 211 expansion, a...\n",
       "4        Call GEN3 for your Air Conditioning Needs! You...\n",
       "5        There's Still Time to Save on Your AC Tune Up!...\n",
       "6        Faithful Departed In Memoriam Marian C. Edward...\n",
       "7        Elder Forum Baptism at the Beach Work Day Elde...\n",
       "8        Boletín de Formación Seminario de Slotting S...\n",
       "9        Farmer's Market Friday is here... ...at H2O! I...\n",
       "10       Media Advisory: Two SCS Board Members Receive ...\n",
       "11       Free Estate Planning Presentation! Gallagher J...\n",
       "12       Memorial Day 2019 Office Closed for the Holida...\n",
       "13       July 2019 Newsletter: Summer Season Fun Should...\n",
       "14       LAST CHANCE! TEEN NIGHT IS TOMORROW! Register ...\n",
       "15       Weekend Festivities!! You don't want to miss t...\n",
       "16       Reminder: What You Should Know About Cranial C...\n",
       "17       HFGF Alex and Ani Fundraiser Tonight Shop For ...\n",
       "18       Florida State Meeting 2019 Registration It's t...\n",
       "20       HFGF Orlando Creepy Crawl Kick Off: 8/10 Orlan...\n",
       "21       TheraNews May 2019 Better Sleep Month TheraNew...\n",
       "22       What did you think of Valerie Jarrett? Colleag...\n",
       "23       Having Kingdom Purpose in your Business or Wor...\n",
       "24       ATELIER ENJE NOW OPEN 3500 Western Ave Highlan...\n",
       "25       In the News Jean Charles BLAIS Mark ULRIKSEN A...\n",
       "26       Powerful Drama, 'night, Mother, opens tomorrow...\n",
       "27       'night, Mother opens this week! 52nd season op...\n",
       "28       Hands On Certification Workshop at Premiere Or...\n",
       "29       Insiders 50% off to join Luke Kuechly at the C...\n",
       "30       The Seven Best Movie Cars: Cars that character...\n",
       "                               ...                        \n",
       "53054    YOUR TOTAL CLAIM AMOUNT WAS APPROVED! CASE ID#...\n",
       "53057    Error renewing connected domain Some quick tip...\n",
       "53063    Costs to Consider Before You Move In! There ar...\n",
       "53077    Verify your identity Hello @rappers.paradise T...\n",
       "53083    60 days Overdue Invoice for Inv 69034.pdf Hell...\n",
       "53086    Failed payments Consider yourself informed Not...\n",
       "53088    Statement from Heritage Oalk LLC Dear Customer...\n",
       "53099    Hop in to enjoy our Easter specials Celebrate ...\n",
       "53101    Your profile has been viewed time(s) since you...\n",
       "53102    Re Confirm your Squarespace account You don't ...\n",
       "53105    Why the Balakot strike was successful RSN Sing...\n",
       "53106    Ihr Control Centre Zugang wurde gesperrt von 1...\n",
       "53108    Website subcription terminated Its not too lat...\n",
       "53110    Shutdown Notification Geeks World Shutdown Not...\n",
       "53111    Remittance Advice I shared file with you Click...\n",
       "53112    Thanks for joining us! Thanks For Joining Us T...\n",
       "53113    Something went wrong with your account You don...\n",
       "53114    The latest news for you You don't want to miss...\n",
       "53118    Hop in to enjoy our Easter specials to my wife...\n",
       "53119    WIRELESS CALLER You don't want to miss this. v...\n",
       "53120    INVOICE Dispute Invoice number \"11250\" has bee...\n",
       "53123    Additional Information Required Hi, User We’re...\n",
       "53126    Notice Of Service Deactivation Action Needed D...\n",
       "53127    Hola bienvenido en bordo te damos la bienvenid...\n",
       "53133    UPS Ship Notification, Tracking Number 1Z95914...\n",
       "53153    Final CD and Title for Review Please see attac...\n",
       "53154    Interview Amazon Warehouse Application Hello, ...\n",
       "53156    New Fax Received. New Fax Received. new docume...\n",
       "53158    Reactivated Your Site Now You don't want to mi...\n",
       "53160    Service Delivery Notification Service Delivery...\n",
       "Name: text, Length: 50553, dtype: object"
      ]
     },
     "execution_count": 32,
     "metadata": {},
     "output_type": "execute_result"
    }
   ],
   "source": [
    "df_bert['text']"
   ]
  },
  {
   "cell_type": "code",
   "execution_count": 33,
   "metadata": {},
   "outputs": [],
   "source": [
    "X = df_bert[['id','alpha','text']]\n",
    "y = df_bert['label']"
   ]
  },
  {
   "cell_type": "code",
   "execution_count": 34,
   "metadata": {},
   "outputs": [],
   "source": [
    "from sklearn.model_selection import train_test_split\n",
    "\n",
    "X_train, X_test, y_train, y_test = train_test_split(X, y, test_size=0.2, stratify=y)\n",
    "\n",
    "train_df = pd.DataFrame({\n",
    "    'id': X_train['id'],\n",
    "    'label':y_train,\n",
    "    'alpha': ['a']*X_train.shape[0],\n",
    "    'text': X_train['text']\n",
    "})\n",
    "\n",
    "\n",
    "test_df = pd.DataFrame({\n",
    "    'id': X_test['id'],\n",
    "    'label':y_test,\n",
    "    'alpha': ['a']*X_test.shape[0],\n",
    "    'text': X_test['text']\n",
    "})"
   ]
  },
  {
   "cell_type": "code",
   "execution_count": 35,
   "metadata": {},
   "outputs": [
    {
     "data": {
      "text/plain": [
       "(10111, 4)"
      ]
     },
     "execution_count": 35,
     "metadata": {},
     "output_type": "execute_result"
    }
   ],
   "source": [
    "test_df.shape"
   ]
  },
  {
   "cell_type": "code",
   "execution_count": 36,
   "metadata": {},
   "outputs": [
    {
     "data": {
      "text/plain": [
       "(40442, 4)"
      ]
     },
     "execution_count": 36,
     "metadata": {},
     "output_type": "execute_result"
    }
   ],
   "source": [
    "train_df.shape"
   ]
  },
  {
   "cell_type": "code",
   "execution_count": 37,
   "metadata": {},
   "outputs": [],
   "source": [
    "train_df.to_csv(prefix+'train.tsv', sep='\\t', index=False, header=False)\n",
    "test_df.to_csv(prefix+'dev.tsv', sep='\\t', index=False, header=False)"
   ]
  },
  {
   "cell_type": "code",
   "execution_count": 38,
   "metadata": {},
   "outputs": [
    {
     "name": "stdout",
     "output_type": "stream",
     "text": [
      "upload: data/dev.tsv to s3://sagemaker-us-east-1-665028136136/compliance-data/batch2/dev.tsv\n",
      "upload: data/train.tsv to s3://sagemaker-us-east-1-665028136136/compliance-data/batch2/train.tsv\n"
     ]
    }
   ],
   "source": [
    "!aws  s3 cp data/dev.tsv s3://sagemaker-us-east-1-665028136136/compliance-data/batch2/\n",
    "!aws  s3 cp data/train.tsv s3://sagemaker-us-east-1-665028136136/compliance-data/batch2/"
   ]
  },
  {
   "cell_type": "code",
   "execution_count": null,
   "metadata": {},
   "outputs": [],
   "source": [
    "!ls"
   ]
  },
  {
   "cell_type": "code",
   "execution_count": null,
   "metadata": {},
   "outputs": [],
   "source": []
  }
 ],
 "metadata": {
  "kernelspec": {
   "display_name": "conda_pytorch_p36",
   "language": "python",
   "name": "conda_pytorch_p36"
  },
  "language_info": {
   "codemirror_mode": {
    "name": "ipython",
    "version": 3
   },
   "file_extension": ".py",
   "mimetype": "text/x-python",
   "name": "python",
   "nbconvert_exporter": "python",
   "pygments_lexer": "ipython3",
   "version": "3.6.5"
  }
 },
 "nbformat": 4,
 "nbformat_minor": 2
}
